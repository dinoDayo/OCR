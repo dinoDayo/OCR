{
 "cells": [
  {
   "cell_type": "markdown",
   "id": "13bdd736",
   "metadata": {},
   "source": [
    "## def Optical Character Recognition( PNG ) :\n",
    "- Inspired by a project a friend told me about, I want to see if I can use this for parsing hand-written notes. Machine Learning seemed like too big of a concept to wrap my head around when I was first learning how convolutional neural networks can support computer vision. Fast forward to today, and it is amazing that I can leverage these tools with such a simple set of commands. \n",
    "- The tutorial I used to get started with this project can be found [here](https://medium.com/@dprakash05/a-complete-guide-to-build-optical-character-recognition-ocr-in-python-5bf179d47db8), along with some environment setup tips [here](https://guides.library.illinois.edu/c.php?g=347520&p=4121425)."
   ]
  },
  {
   "cell_type": "markdown",
   "id": "e473b4ea",
   "metadata": {},
   "source": [
    "#### Import Libraries"
   ]
  },
  {
   "cell_type": "code",
   "execution_count": 1,
   "id": "1fbd6af6",
   "metadata": {},
   "outputs": [
    {
     "name": "stdout",
     "output_type": "stream",
     "text": [
      "Last file completed in 2.2578461170196533 seconds\n"
     ]
    }
   ],
   "source": [
    "# setting up env...\n",
    "from PIL import Image\n",
    "import pytesseract\n",
    "import numpy as np\n",
    "from pytesseract import Output\n",
    "import cv2\n",
    "\n",
    "# load local vars in .env file\n",
    "import os\n",
    "from dotenv import load_dotenv\n",
    "load_dotenv()\n",
    "\n",
    "# import our file management tools...\n",
    "from file_helper import helper\n",
    "hlp = helper()\n",
    "\n",
    "# prepare datafiles...\n",
    "hlp.pdfs_to_imgs(img_type='png', method='series', resolution=300)"
   ]
  },
  {
   "cell_type": "markdown",
   "id": "c737cb07",
   "metadata": {},
   "source": [
    "#### Implementation"
   ]
  },
  {
   "cell_type": "code",
   "execution_count": 7,
   "id": "805dae1d",
   "metadata": {},
   "outputs": [
    {
     "name": "stdout",
     "output_type": "stream",
     "text": [
      "Client Profile\n",
      "\n",
      "Brrne (Last, First) }\n",
      "\n",
      "IZ Wes Hives’\n",
      "\n",
      "| © rere BS BOR “OOP tmattnneerely 6D)\n",
      "\n",
      "Notes ‘Coy\n",
      "\n",
      "ae me\n",
      "\n",
      "Le ibs ;\n",
      "( How did you hear abaut us?\n",
      "Referral Dott VY ya Cs ) = A, Ho cation)\n",
      "\n",
      "\n"
     ]
    }
   ],
   "source": [
    "# import PNG image file...\n",
    "png_file = '/Client Cards v1-01.png'\n",
    "img = np.array(Image.open(hlp.img_data_path + png_file))\n",
    "\n",
    "# extract strings\n",
    "text = pytesseract.image_to_string(img)\n",
    "print(text)"
   ]
  },
  {
   "cell_type": "markdown",
   "id": "ef16221b",
   "metadata": {},
   "source": [
    "#### Text Localization and Detection"
   ]
  },
  {
   "cell_type": "code",
   "execution_count": 8,
   "id": "65bdda43",
   "metadata": {},
   "outputs": [
    {
     "name": "stdout",
     "output_type": "stream",
     "text": [
      "{'level': [1, 2, 3, 4, 5, 4, 5, 4, 5, 2, 3, 4, 5, 5, 2, 3, 4, 5, 5, 5, 5, 2, 3, 4, 5, 5, 5, 2, 3, 4, 5, 5, 5, 5, 5, 5, 5, 5, 2, 3, 4, 5, 5, 2, 3, 4, 5, 4, 5, 4, 5, 2, 3, 4, 5, 2, 3, 4, 5, 5, 2, 3, 4, 5, 5, 5, 4, 5, 5, 5, 5, 5, 5, 5, 4, 5, 5, 5, 5, 5, 5, 5, 5, 5, 5, 2, 3, 4, 5, 2, 3, 4, 5, 2, 3, 4, 5, 2, 3, 4, 5, 2, 3, 4, 5, 2, 3, 4, 5, 2, 3, 4, 5, 2, 3, 4, 5, 2, 3, 4, 5, 2, 3, 4, 5, 2, 3, 4, 5, 2, 3, 4, 5, 2, 3, 4, 5], 'page_num': [1, 1, 1, 1, 1, 1, 1, 1, 1, 1, 1, 1, 1, 1, 1, 1, 1, 1, 1, 1, 1, 1, 1, 1, 1, 1, 1, 1, 1, 1, 1, 1, 1, 1, 1, 1, 1, 1, 1, 1, 1, 1, 1, 1, 1, 1, 1, 1, 1, 1, 1, 1, 1, 1, 1, 1, 1, 1, 1, 1, 1, 1, 1, 1, 1, 1, 1, 1, 1, 1, 1, 1, 1, 1, 1, 1, 1, 1, 1, 1, 1, 1, 1, 1, 1, 1, 1, 1, 1, 1, 1, 1, 1, 1, 1, 1, 1, 1, 1, 1, 1, 1, 1, 1, 1, 1, 1, 1, 1, 1, 1, 1, 1, 1, 1, 1, 1, 1, 1, 1, 1, 1, 1, 1, 1, 1, 1, 1, 1, 1, 1, 1, 1, 1, 1, 1, 1], 'block_num': [0, 1, 1, 1, 1, 1, 1, 1, 1, 2, 2, 2, 2, 2, 3, 3, 3, 3, 3, 3, 3, 4, 4, 4, 4, 4, 4, 5, 5, 5, 5, 5, 5, 5, 5, 5, 5, 5, 6, 6, 6, 6, 6, 7, 7, 7, 7, 7, 7, 7, 7, 8, 8, 8, 8, 9, 9, 9, 9, 9, 10, 10, 10, 10, 10, 10, 10, 10, 10, 10, 10, 10, 10, 10, 10, 10, 10, 10, 10, 10, 10, 10, 10, 10, 10, 11, 11, 11, 11, 12, 12, 12, 12, 13, 13, 13, 13, 14, 14, 14, 14, 15, 15, 15, 15, 16, 16, 16, 16, 17, 17, 17, 17, 18, 18, 18, 18, 19, 19, 19, 19, 20, 20, 20, 20, 21, 21, 21, 21, 22, 22, 22, 22, 23, 23, 23, 23], 'par_num': [0, 0, 1, 1, 1, 1, 1, 1, 1, 0, 1, 1, 1, 1, 0, 1, 1, 1, 1, 1, 1, 0, 1, 1, 1, 1, 1, 0, 1, 1, 1, 1, 1, 1, 1, 1, 1, 1, 0, 1, 1, 1, 1, 0, 1, 1, 1, 1, 1, 1, 1, 0, 1, 1, 1, 0, 1, 1, 1, 1, 0, 1, 1, 1, 1, 1, 1, 1, 1, 1, 1, 1, 1, 1, 1, 1, 1, 1, 1, 1, 1, 1, 1, 1, 1, 0, 1, 1, 1, 0, 1, 1, 1, 0, 1, 1, 1, 0, 1, 1, 1, 0, 1, 1, 1, 0, 1, 1, 1, 0, 1, 1, 1, 0, 1, 1, 1, 0, 1, 1, 1, 0, 1, 1, 1, 0, 1, 1, 1, 0, 1, 1, 1, 0, 1, 1, 1], 'line_num': [0, 0, 0, 1, 1, 2, 2, 3, 3, 0, 0, 1, 1, 1, 0, 0, 1, 1, 1, 1, 1, 0, 0, 1, 1, 1, 1, 0, 0, 1, 1, 1, 1, 1, 1, 1, 1, 1, 0, 0, 1, 1, 1, 0, 0, 1, 1, 2, 2, 3, 3, 0, 0, 1, 1, 0, 0, 1, 1, 1, 0, 0, 1, 1, 1, 1, 2, 2, 2, 2, 2, 2, 2, 2, 3, 3, 3, 3, 3, 3, 3, 3, 3, 3, 3, 0, 0, 1, 1, 0, 0, 1, 1, 0, 0, 1, 1, 0, 0, 1, 1, 0, 0, 1, 1, 0, 0, 1, 1, 0, 0, 1, 1, 0, 0, 1, 1, 0, 0, 1, 1, 0, 0, 1, 1, 0, 0, 1, 1, 0, 0, 1, 1, 0, 0, 1, 1], 'word_num': [0, 0, 0, 0, 1, 0, 1, 0, 1, 0, 0, 0, 1, 2, 0, 0, 0, 1, 2, 3, 4, 0, 0, 0, 1, 2, 3, 0, 0, 0, 1, 2, 3, 4, 5, 6, 7, 8, 0, 0, 0, 1, 2, 0, 0, 0, 1, 0, 1, 0, 1, 0, 0, 0, 1, 0, 0, 0, 1, 2, 0, 0, 0, 1, 2, 3, 0, 1, 2, 3, 4, 5, 6, 7, 0, 1, 2, 3, 4, 5, 6, 7, 8, 9, 10, 0, 0, 0, 1, 0, 0, 0, 1, 0, 0, 0, 1, 0, 0, 0, 1, 0, 0, 0, 1, 0, 0, 0, 1, 0, 0, 0, 1, 0, 0, 0, 1, 0, 0, 0, 1, 0, 0, 0, 1, 0, 0, 0, 1, 0, 0, 0, 1, 0, 0, 0, 1], 'left': [0, 104, 104, 104, 104, 395, 395, 512, 512, 519, 519, 519, 519, 598, 53, 53, 53, 53, 188, 260, 363, 382, 382, 382, 382, 433, 572, 0, 0, 0, 0, 41, 102, 215, 358, 481, 615, 1004, 110, 110, 110, 110, 1086, 134, 134, 134, 134, 134, 134, 487, 487, 111, 111, 111, 111, 330, 330, 330, 330, 487, 108, 108, 168, 168, 347, 813, 108, 108, 125, 206, 251, 305, 367, 447, 143, 143, 297, 495, 571, 639, 690, 721, 756, 887, 940, 1124, 1124, 1124, 1124, 637, 637, 637, 637, 583, 583, 583, 583, 995, 995, 995, 995, 111, 111, 111, 111, 408, 408, 408, 408, 623, 623, 623, 623, 549, 549, 549, 549, 994, 994, 994, 994, 431, 431, 431, 431, 597, 597, 597, 597, 28, 28, 28, 28, 563, 563, 563, 563], 'top': [0, 88, 88, 88, 88, 124, 124, 189, 189, 112, 112, 112, 112, 112, 149, 149, 149, 149, 178, 179, 180, 231, 231, 231, 231, 258, 247, 288, 288, 288, 344, 288, 295, 288, 288, 288, 288, 288, 395, 395, 395, 409, 395, 421, 421, 421, 421, 459, 459, 524, 524, 477, 477, 477, 477, 504, 504, 504, 504, 532, 527, 527, 527, 550, 527, 578, 578, 582, 579, 583, 590, 578, 583, 583, 589, 622, 608, 609, 594, 612, 619, 595, 589, 593, 593, 598, 598, 598, 598, 985, 985, 985, 985, 1108, 1108, 1108, 1108, 868, 868, 868, 868, 1539, 1539, 1539, 1539, 1728, 1728, 1728, 1728, 1728, 1728, 1728, 1728, 1789, 1789, 1789, 1789, 1507, 1507, 1507, 1507, 1917, 1917, 1917, 1917, 1917, 1917, 1917, 1917, 676, 676, 676, 676, 1979, 1979, 1979, 1979], 'width': [1200, 1022, 1022, 1016, 1016, 725, 725, 614, 614, 156, 156, 156, 68, 77, 342, 342, 342, 125, 61, 58, 32, 316, 316, 316, 32, 79, 126, 1128, 1128, 1128, 2, 31, 82, 83, 83, 114, 369, 124, 1051, 1051, 1051, 68, 75, 990, 990, 957, 957, 989, 989, 637, 637, 237, 237, 237, 237, 174, 174, 174, 82, 17, 1016, 1016, 945, 63, 36, 6, 1016, 15, 74, 38, 44, 55, 72, 40, 912, 93, 148, 67, 60, 36, 7, 22, 126, 32, 115, 3, 3, 3, 3, 489, 489, 489, 489, 361, 361, 361, 361, 5, 5, 5, 5, 1012, 1012, 1012, 1012, 640, 640, 640, 640, 425, 425, 425, 425, 570, 570, 570, 570, 5, 5, 5, 5, 634, 634, 634, 634, 468, 468, 468, 468, 1113, 1113, 1113, 1113, 526, 526, 526, 526], 'height': [2097, 147, 147, 36, 36, 65, 65, 46, 46, 24, 24, 24, 24, 24, 66, 66, 66, 66, 32, 32, 31, 61, 61, 61, 61, 24, 45, 123, 123, 123, 4, 123, 62, 123, 123, 123, 123, 123, 43, 43, 43, 24, 43, 159, 159, 38, 38, 65, 65, 56, 56, 103, 103, 103, 103, 67, 67, 67, 67, 26, 152, 148, 57, 20, 57, 1, 37, 24, 29, 26, 25, 31, 29, 26, 90, 41, 71, 55, 70, 48, 41, 65, 82, 71, 71, 124, 124, 124, 124, 6, 6, 6, 6, 7, 7, 7, 7, 328, 328, 328, 328, 12, 12, 12, 12, 5, 5, 5, 5, 5, 5, 5, 5, 8, 8, 8, 8, 400, 400, 400, 400, 6, 6, 6, 6, 6, 6, 6, 6, 1313, 1313, 1313, 1313, 8, 8, 8, 8], 'conf': ['-1', '-1', '-1', '-1', '95.000000', '-1', '95.000000', '-1', '95.000000', '-1', '-1', '-1', '96.890320', '96.933273', '-1', '-1', '-1', '14.702293', '92.613495', '76.850243', '11.888695', '-1', '-1', '-1', '69.264374', '69.264374', '0.367668', '-1', '-1', '-1', '59.745872', '80.991608', '46.855118', '0.000000', '56.017452', '42.033493', '0.000000', '51.920811', '-1', '-1', '-1', '96.572998', '26.526245', '-1', '-1', '-1', '95.000000', '-1', '95.000000', '-1', '95.000000', '-1', '-1', '-1', '95.000000', '-1', '-1', '-1', '12.673836', '36.631264', '-1', '-1', '-1', '73.573616', '47.384285', '20.205872', '-1', '61.775986', '95.797615', '95.961113', '95.961113', '93.202728', '86.079880', '96.608948', '-1', '96.158630', '14.059723', '56.155952', '0.000000', '37.675240', '92.802475', '63.320892', '23.819412', '7.849770', '0.000000', '-1', '-1', '-1', '95.000000', '-1', '-1', '-1', '95.000000', '-1', '-1', '-1', '95.000000', '-1', '-1', '-1', '95.000000', '-1', '-1', '-1', '95.000000', '-1', '-1', '-1', '95.000000', '-1', '-1', '-1', '95.000000', '-1', '-1', '-1', '95.000000', '-1', '-1', '-1', '95.000000', '-1', '-1', '-1', '95.000000', '-1', '-1', '-1', '95.000000', '-1', '-1', '-1', '95.000000', '-1', '-1', '-1', '95.000000'], 'text': ['', '', '', '', ' ', '', ' ', '', ' ', '', '', '', 'Client', 'Profile', '', '', '', 'Brrne', '(Last,', 'First)', '}', '', '', '', 'IZ', 'Wes', 'Hives’', '', '', '', '|', '©', 'rere', 'BS', 'BOR', '“OOP', 'tmattnneerely', '6D)', '', '', '', 'Notes', '‘Coy', '', '', '', ' ', '', '   ', '', '  ', '', '', '', '  ', '', '', '', 'ae', 'me', '', '', '', 'Le', 'ibs', ';', '', '(', 'How', 'did', 'you', 'hear', 'abaut', 'us?', '', 'Referral', 'Dott', 'VY', 'ya', 'Cs', ')', '=', 'A,', 'Ho', 'cation)', '', '', '', ' ', '', '', '', ' ', '', '', '', ' ', '', '', '', ' ', '', '', '', ' ', '', '', '', ' ', '', '', '', ' ', '', '', '', ' ', '', '', '', ' ', '', '', '', ' ', '', '', '', ' ', '', '', '', ' ', '', '', '', '']}\n"
     ]
    }
   ],
   "source": [
    "results = pytesseract.image_to_data(img, output_type=Output.DICT)\n",
    "print(results)"
   ]
  },
  {
   "cell_type": "code",
   "execution_count": null,
   "id": "e256f351",
   "metadata": {},
   "outputs": [],
   "source": [
    "# overlay observed text margins on original image\n",
    "for i in range(0, len(results[\"text\"])):\n",
    "    x = results[\"left\"][i]\n",
    "    y = results[\"top\"][i]\n",
    "    \n",
    "    w = results[\"width\"][i]\n",
    "    h = results[\"height\"][i]    \n",
    "    text = results[\"text\"][i]\n",
    "    conf = int(float(results[\"conf\"][i]))   \n",
    "    # conf = confidence in that letter being in that location\n",
    "    if conf > 58:\n",
    "        text = \"\".join([c if ord(c) < 128 else \"\" for c in text]).strip()\n",
    "        cv2.rectangle(img, (x, y), (x + w, y + h), (0, 255, 0), 2)\n",
    "        cv2.putText(img, text, (x, y - 10), cv2.FONT_HERSHEY_SIMPLEX, 0.5, (0, 0, 200), 2)\n",
    "\n",
    "# display results\n",
    "cv2.imshow(\" \",img)\n",
    "cv2.waitKey(0) "
   ]
  },
  {
   "cell_type": "code",
   "execution_count": null,
   "id": "4a69212f",
   "metadata": {},
   "outputs": [],
   "source": [
    "#closing all open windows \n",
    "cv2.destroyAllWindows()"
   ]
  },
  {
   "cell_type": "markdown",
   "id": "cbda0697",
   "metadata": {},
   "source": [
    "#### Results:\n",
    "1. Accuracy improved significantly from first test, buidling an algorithmic concept of the Client Card to reduce noise seems like it could be promising... \n",
    "2. Parallelization of the tasks needs revision, my current implementation takes longer in a Pool than in a Thread\n",
    "3. File management still needs work (gDrive IO + DVC.maybe)\n",
    "\n",
    "NOTE: Increasing resolution of pngs also slightly improved performance but it also tripled the data-preparation duration..."
   ]
  },
  {
   "cell_type": "code",
   "execution_count": null,
   "id": "c04fc32b",
   "metadata": {},
   "outputs": [],
   "source": []
  }
 ],
 "metadata": {
  "kernelspec": {
   "display_name": "Python 3 (ipykernel)",
   "language": "python",
   "name": "python3"
  },
  "language_info": {
   "codemirror_mode": {
    "name": "ipython",
    "version": 3
   },
   "file_extension": ".py",
   "mimetype": "text/x-python",
   "name": "python",
   "nbconvert_exporter": "python",
   "pygments_lexer": "ipython3",
   "version": "3.9.7"
  }
 },
 "nbformat": 4,
 "nbformat_minor": 5
}
